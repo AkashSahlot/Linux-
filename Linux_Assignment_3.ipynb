{
  "nbformat": 4,
  "nbformat_minor": 0,
  "metadata": {
    "colab": {
      "provenance": []
    },
    "kernelspec": {
      "name": "python3",
      "display_name": "Python 3"
    },
    "language_info": {
      "name": "python"
    }
  },
  "cells": [
    {
      "cell_type": "markdown",
      "source": [
        "What are inode and process id?\n",
        "\n",
        "**Ans** \n",
        "An inode (short for 'index node') is a data structure used by Linux to hold file information whereas PID stands for process identification number. When a process is created, it is automatically issued a PID. On a Unix-like system, a process is just a running instance of a programme, and each process has its own PID."
      ],
      "metadata": {
        "id": "tH64YHyGh4uy"
      }
    },
    {
      "cell_type": "markdown",
      "source": [
        "\n",
        "Which are the Linux Directory Commands?\n",
        "\n",
        "**Ans** Linux directory ccommands are those commands which are internal and found in /bin path.\n",
        " These commands can not be uninstalled/deleted.\n",
        " for eg. \n",
        "\n",
        " ls - This command 'lists' the contents of your present working directory.\n",
        "\n",
        "\n",
        "pwd - Shows you what your present working directory is.\n",
        "\n",
        "\n",
        "cd - Lets you change directories.\n",
        "\n",
        "\n",
        "rm - Remove one or more files.\n",
        "\n",
        "\n",
        "rmdir - Remove an empty directory.\n",
        "\n",
        "\n",
        "mkdir - Make a directory. \n"
      ],
      "metadata": {
        "id": "7vy6zx3miB2M"
      }
    },
    {
      "cell_type": "code",
      "source": [],
      "metadata": {
        "id": "NqUBPqSoiLhs"
      },
      "execution_count": null,
      "outputs": []
    },
    {
      "cell_type": "markdown",
      "source": [
        "What is Virtual Desktop?\n",
        "\n",
        "**Ans**\n",
        "Virtual desktops are preconfigured images of operating systems and applications in which the desktop environment is separated from the physical device used to access it. Users can access their virtual desktops remotely over a network."
      ],
      "metadata": {
        "id": "uYxg5tMsiCsV"
      }
    },
    {
      "cell_type": "code",
      "source": [],
      "metadata": {
        "id": "ZDKIC1SxiOvD"
      },
      "execution_count": null,
      "outputs": []
    },
    {
      "cell_type": "markdown",
      "source": [
        "Which are the different modes of vi editor?\n",
        "\n",
        "**Ans**\n",
        "\n",
        "**Command Mode**: When vi starts up, it is in Command Mode. ...\n",
        "\n",
        "\n",
        "**Insert mode**: This mode enables you to insert text into the file. ...\n",
        "\n",
        "Last Line Mode(Escape Mode): Line Mode is invoked by typing a colon [:], while vi is in Command Mode."
      ],
      "metadata": {
        "id": "z9ZzW1guiP_L"
      }
    },
    {
      "cell_type": "code",
      "source": [],
      "metadata": {
        "id": "BU836FRmiSe7"
      },
      "execution_count": null,
      "outputs": []
    },
    {
      "cell_type": "markdown",
      "source": [
        "What are daemons?\n",
        "\n",
        "**Ans** A daemon is a service process that runs in the background and supervises the system or provides functionality to other processes."
      ],
      "metadata": {
        "id": "vlwZ0oA7iTiu"
      }
    },
    {
      "cell_type": "code",
      "source": [],
      "metadata": {
        "id": "kLm7KjyPiVH9"
      },
      "execution_count": null,
      "outputs": []
    },
    {
      "cell_type": "markdown",
      "source": [
        "What are the process states in Linux?\n",
        "\n",
        "**Ans** \n",
        "A process is a program in execution and it is more than a program code called as text section and this concept works under all the operating system because all the task perform by the operating system needs a process to perform the task\n",
        "\n",
        "The process executes when it changes the state. The state of a process is defined by the current activity of the process.\n",
        "\n",
        "Each process may be in any one of the following states −\n",
        "\n",
        "New − The process is being created.\n",
        "\n",
        "Running − In this state the instructions are being executed.\n",
        "\n",
        "Waiting − The process is in waiting state until an event occurs like I/O operation completion or receiving a signal.\n",
        "\n",
        "Ready − The process is waiting to be assigned to a processor.\n",
        "\n",
        "Terminated − the process has finished execution."
      ],
      "metadata": {
        "id": "_6WrWphXiWIm"
      }
    },
    {
      "cell_type": "code",
      "source": [],
      "metadata": {
        "id": "iALpyBL-ia_9"
      },
      "execution_count": null,
      "outputs": []
    },
    {
      "cell_type": "markdown",
      "source": [
        "Explain grep command.\n",
        "\n",
        "**Ans** Grep commands is used to check how many times a character/word is present in the file.\n",
        "\n",
        "for example, \n",
        "\n",
        "**grep apple fruits.txt**\n",
        "\n",
        "It will check how many times an apple is present in the file \"fruits.txt\" \n",
        "\n",
        "To see line number, **grep -n apple fruits.txt**\n",
        "\n",
        "To see the exact word match, **grep -wn apple fruits.txt**\n",
        "\n",
        "To look for capital apple, **grep -i apple fruits.txt**, it shows apple & APPLE."
      ],
      "metadata": {
        "id": "bpQYFlnViX4G"
      }
    },
    {
      "cell_type": "code",
      "source": [],
      "metadata": {
        "id": "jzTuZd_Rib8L"
      },
      "execution_count": null,
      "outputs": []
    },
    {
      "cell_type": "markdown",
      "source": [
        "Explain Process Management System Calls in Linux\n",
        "\n",
        "**Ans**\n",
        "System call provides an interface between user program and operating system.\n",
        "When the user wants to give an instruction to the OS then it will do it through system calls. Or a user program can access the kernel which is a part of the OS through system calls.\n",
        "\n",
        "It is a programmatic way in which a computer program requests a service from the kernel of the operating system.\n",
        "\n",
        "\n",
        "The different system calls are as follows −\n",
        "\n",
        "System calls for Process management\n",
        "\n",
        "System calls for File management\n",
        "\n",
        "System calls for Directory management"
      ],
      "metadata": {
        "id": "piXyxU5biZoF"
      }
    },
    {
      "cell_type": "code",
      "source": [],
      "metadata": {
        "id": "x4aaNrrnieew"
      },
      "execution_count": null,
      "outputs": []
    },
    {
      "cell_type": "markdown",
      "source": [
        "Explain the ‘ls’ command\n",
        "\n",
        "**ls** is used for listing the content in the path or in the directory. \n",
        "\n",
        "The ls command is used to list files. \"ls\" on its own lists all files in the current directory except for hidden files. \n",
        "\n",
        "\"ls *.tex\" lists only those files ending in \".tex\". \n",
        "\n",
        "\"ls -la\" gives a long listing of all files.\n",
        "\n",
        "ls -a will list all files including hidden files (files with names beginning with a dot).\n",
        "\n",
        "\n",
        "ls -F gives a full listing, indicating what type files are by putting a slash after directories and a star after executable files (programs you can run).\n",
        "\n",
        "\n",
        "ls -l gives a long listing of all files. "
      ],
      "metadata": {
        "id": "sRST_zVRie3D"
      }
    },
    {
      "cell_type": "code",
      "source": [],
      "metadata": {
        "id": "BR6OLUhCigvP"
      },
      "execution_count": null,
      "outputs": []
    },
    {
      "cell_type": "markdown",
      "source": [
        "Explain the redirection operator\n",
        "\n",
        "**Ans** Redirection operator is used to either overwrite or append the content of one file into another. \n",
        " > -  this is for overwriting of one file content into another file.\n",
        " >> - this is for appending one file content into another file.\n",
        "\n",
        " Redirection is done using either the \">\" (greater-than symbol), or using the \"|\" (pipe) operator which sends the standard output of one command to another command as standard input.\n",
        "\n",
        " - We can perforrm sorting also using redirection operator.\n",
        " i.e \n",
        "\n",
        " **cat test.txt > test1.txt | sort > sorted.txt**"
      ],
      "metadata": {
        "id": "CuxjRxDsihVe"
      }
    },
    {
      "cell_type": "code",
      "source": [],
      "metadata": {
        "id": "NlnUvQ38iiNK"
      },
      "execution_count": null,
      "outputs": []
    }
  ]
}