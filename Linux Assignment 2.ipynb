{
 "cells": [
  {
   "cell_type": "markdown",
   "id": "61d09460",
   "metadata": {},
   "source": [
    "1.What is tar command?  Why is it used?\n",
    "\n",
    "-c : Creates archive\n",
    "-x : Extracts the archive\n",
    "-f : creates archive with given filename\n",
    "-t : displays or lists files in archived file\n",
    "-u : archives and adds to an existing archive file\n",
    "-v : Displays verbose information\n",
    "-A : Concatenates the archive files\n",
    "-z : compresses the tar file using gzip\n",
    "-j : compresses the tar file using bzip2\n",
    "-W : Verifies an archive file\n",
    "-r : updates or adds file or directory in already existing .tar file.\n",
    "\n",
    "The tar command is used to compress a group of files into an archive. The command is also used to extract, maintain, or modify tar archives. Tar archives combine multiple files and/or directories together into a single file. "
   ]
  },
  {
   "cell_type": "markdown",
   "id": "d216096c",
   "metadata": {},
   "source": [
    "2.Explain Regular Expressions and Grep\n",
    "\n",
    "A regular expression or regex is a pattern that matches a set of strings. A pattern consists of operators, constructs literal characters, and meta-characters, which have special meaning. \n"
   ]
  },
  {
   "cell_type": "markdown",
   "id": "49d8fe2c",
   "metadata": {},
   "source": [
    "3.What is the minimum number of disk partitions required to install Linux?\n",
    "\n",
    "The /boot partition can be any size, but is recommended to be anywhere between 17MB and 25MB and no larger than 50MB because it only contains the Linux kernel(s) and their boot time files. The /var partition is where variable files, logs, web pages, and ftp files are stored. 150MB should be the minimum."
   ]
  },
  {
   "cell_type": "markdown",
   "id": "350cb7c2",
   "metadata": {},
   "source": [
    "4.How to copy a file in Linux?\n",
    "\n",
    "By highlighting and right-clicking the text you'd like to copy, you can open the context menu and select the option to Copy from the list of options.\n",
    "you can right-click on a new line in your terminal and select Paste, to paste any previously copied text into the terminal.\n"
   ]
  },
  {
   "cell_type": "markdown",
   "id": "cbbbad93",
   "metadata": {},
   "source": [
    "5.How to terminate a running process in Linux?\n",
    "\n",
    "Use the kill -9 command to terminate the processes. For example, type. kill -9 \n"
   ]
  },
  {
   "cell_type": "markdown",
   "id": "8c7e0854",
   "metadata": {},
   "source": [
    "6.How to rename a file in Linux?\n",
    "\n",
    "You can use the built-in Linux command mv to rename files.\n"
   ]
  },
  {
   "cell_type": "markdown",
   "id": "c11f3904",
   "metadata": {},
   "source": [
    "7.How to write the output of a command to a file?\n",
    "\n",
    " change \"YOUR-COMMAND\" with your command and \"c:\\PATH\\TO\\FOLDER\\OUTPUT. txt\" with the path and file name to store the output. "
   ]
  },
  {
   "cell_type": "markdown",
   "id": "7afdcbb8",
   "metadata": {},
   "source": [
    "8.How to see the list of mounted devices on Linux?\n",
    "\n",
    "using /media for automatically mounting and /mnt for manual mounting\n"
   ]
  },
  {
   "cell_type": "markdown",
   "id": "66215d72",
   "metadata": {},
   "source": [
    "9.How to find where a file is stored in Linux?\n",
    "\n",
    "The pwd command prints the current/working directory, telling where you are currently located in the filesystem.\n",
    "using ls -lrt command to see all the files "
   ]
  },
  {
   "cell_type": "markdown",
   "id": "20620150",
   "metadata": {},
   "source": [
    "10.How to find the difference between two configuration files?\n",
    "By looking at the initial \n",
    "for ex. \"-\" represent the file is Regular files \n",
    "\"d\" represent Directory file\n",
    "there are special files :\n",
    "Block files (b)\n",
    "character devices files (c)\n",
    "Named pipe files (p)\n",
    "Symbolic link (l) ------------->1. soft link 2. Hard link \n",
    "Socket files (S)"
   ]
  }
 ],
 "metadata": {
  "kernelspec": {
   "display_name": "Python 3 (ipykernel)",
   "language": "python",
   "name": "python3"
  },
  "language_info": {
   "codemirror_mode": {
    "name": "ipython",
    "version": 3
   },
   "file_extension": ".py",
   "mimetype": "text/x-python",
   "name": "python",
   "nbconvert_exporter": "python",
   "pygments_lexer": "ipython3",
   "version": "3.10.5"
  }
 },
 "nbformat": 4,
 "nbformat_minor": 5
}
