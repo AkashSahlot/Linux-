{
 "cells": [
  {
   "cell_type": "markdown",
   "id": "191062b2",
   "metadata": {},
   "source": [
    "1.Write a bash script to delete all the files in the current directory that contains the word “ineuron”.\n",
    "\n",
    "\n",
    "**Ans**\n",
    "\n",
    "\n",
    "#### Iterate over each file in the current directory\n",
    "for file in *; do\n",
    "  #### Check if the file name contains the word \"ineuron\"\n",
    "  if [[ $file == *\"ineuron\"* ]]; then\n",
    "    # Delete the file\n",
    "    rm \"$file\"\n",
    "    echo \"Deleted file: $file\"\n",
    "  \n",
    "  fi\n",
    "\n",
    "done"
   ]
  },
  {
   "cell_type": "markdown",
   "id": "258fa169",
   "metadata": {},
   "source": [
    "2.How would you create a text file without opening it?\n",
    "\n",
    "**Ans**\n",
    "\n",
    "We can use \"Touch\" command to create a file without opening it.\n"
   ]
  },
  {
   "cell_type": "markdown",
   "id": "eb8cc588",
   "metadata": {},
   "source": [
    "3. How would you delete a directory in Linux?\n",
    "\n",
    "Ans. Using rmdir command, we can delete a directory in linux"
   ]
  },
  {
   "cell_type": "markdown",
   "id": "f16237ad",
   "metadata": {},
   "source": [
    "4.How would you schedule a task in Linux?\n",
    "\n",
    "Ans. By using Cron system we can schdule a task in linux."
   ]
  },
  {
   "cell_type": "markdown",
   "id": "04182ff8",
   "metadata": {},
   "source": [
    "5. Suppose you try to delete a file using the rm command and the deletion fails. What could be the possible reason?\n",
    "\n",
    "Ans. \n",
    "\n",
    "1. insufficient permission\n",
    "2. file is open \n",
    "3. Read only file system"
   ]
  },
  {
   "cell_type": "markdown",
   "id": "029cac76",
   "metadata": {},
   "source": [
    "6. How do you look at the contents of a file?\n",
    "\n",
    "Ans. By using 'Cat' command, we can lookk at the contents of a file."
   ]
  },
  {
   "cell_type": "markdown",
   "id": "d6a995fa",
   "metadata": {},
   "source": [
    "7. How to identify which shell you are using?\n",
    "\n",
    "Ans. we can use echo command \n"
   ]
  },
  {
   "cell_type": "markdown",
   "id": "ee0e69f9",
   "metadata": {},
   "source": [
    "8. How can you login to another system in your network from your system?\n",
    "\n",
    "Ans. We can use SSH command to login to another system in our network. for example, ssh username@remote_ip_address"
   ]
  },
  {
   "cell_type": "markdown",
   "id": "abf3f5e4",
   "metadata": {},
   "source": [
    "9. How would you open a file in read-only mode using the vim editor?\n",
    "\n",
    "\n",
    "\n",
    "Ans. vim -R file_name "
   ]
  },
  {
   "cell_type": "code",
   "execution_count": null,
   "id": "a795ba3c",
   "metadata": {},
   "outputs": [],
   "source": []
  }
 ],
 "metadata": {
  "kernelspec": {
   "display_name": "Python 3 (ipykernel)",
   "language": "python",
   "name": "python3"
  },
  "language_info": {
   "codemirror_mode": {
    "name": "ipython",
    "version": 3
   },
   "file_extension": ".py",
   "mimetype": "text/x-python",
   "name": "python",
   "nbconvert_exporter": "python",
   "pygments_lexer": "ipython3",
   "version": "3.9.13"
  }
 },
 "nbformat": 4,
 "nbformat_minor": 5
}
